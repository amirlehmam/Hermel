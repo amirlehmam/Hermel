{
  "nbformat": 4,
  "nbformat_minor": 0,
  "metadata": {
    "colab": {
      "provenance": []
    },
    "kernelspec": {
      "name": "python3",
      "display_name": "Python 3"
    },
    "language_info": {
      "name": "python"
    }
  },
  "cells": [
    {
      "cell_type": "code",
      "execution_count": 12,
      "metadata": {
        "colab": {
          "base_uri": "https://localhost:8080/"
        },
        "id": "4RINb3ga6eUh",
        "outputId": "ee5ab109-067a-4bbd-ee31-de7a249dd100"
      },
      "outputs": [
        {
          "output_type": "stream",
          "name": "stdout",
          "text": [
            "Requirement already satisfied: sqlalchemy in /usr/local/lib/python3.10/dist-packages (2.0.21)\n",
            "Requirement already satisfied: typing-extensions>=4.2.0 in /usr/local/lib/python3.10/dist-packages (from sqlalchemy) (4.5.0)\n",
            "Requirement already satisfied: greenlet!=0.4.17 in /usr/local/lib/python3.10/dist-packages (from sqlalchemy) (3.0.0)\n"
          ]
        }
      ],
      "source": [
        "pip install pandas\n",
        "pip install psycopg2\n",
        "pip install sqlalchemy"
      ]
    },
    {
      "cell_type": "code",
      "source": [
        "import requests\n",
        "import time\n",
        "\n",
        "def get_public_ip():\n",
        "    response = requests.get('https://api.ipify.org').text\n",
        "    return response\n",
        "\n",
        "interval = 5  # Interval in seconds\n",
        "while True:\n",
        "    public_ip = get_public_ip()\n",
        "    print(f'Public IPv4: {public_ip}')\n",
        "    time.sleep(interval)"
      ],
      "metadata": {
        "id": "KqP6nlxBEhIs"
      },
      "execution_count": null,
      "outputs": []
    },
    {
      "cell_type": "markdown",
      "source": [
        "# Code pour créer nos 5 tables"
      ],
      "metadata": {
        "id": "RiNF3-BfG-hq"
      }
    },
    {
      "cell_type": "code",
      "source": [
        "import psycopg2\n",
        "\n",
        "def create_tables():\n",
        "\n",
        "    # Initialisation de la variable de connexion\n",
        "    conn = None\n",
        "\n",
        "    # Paramètres de connexion\n",
        "    params = {\n",
        "        'host': 'lm1672121-001.eu.clouddb.ovh.net',\n",
        "        'port': 35602,\n",
        "        'user': 'admin',\n",
        "        'password': 'Hermell15C',\n",
        "        'dbname': 'Hermel'\n",
        "    }\n",
        "\n",
        "    try:\n",
        "        # Connexion à la base de données PostgreSQL\n",
        "        conn = psycopg2.connect(**params)\n",
        "\n",
        "        # Création d'un nouvel objet cursor\n",
        "        cur = conn.cursor()\n",
        "\n",
        "        # Requêtes SQL pour créer les tables\n",
        "        queries = [\n",
        "            \"\"\"\n",
        "            CREATE TABLE IF NOT EXISTS Users (\n",
        "                id SERIAL PRIMARY KEY,\n",
        "                username VARCHAR(50) UNIQUE,\n",
        "                email VARCHAR(50) UNIQUE,\n",
        "                password_hash VARCHAR(50),\n",
        "                created_at TIMESTAMP DEFAULT CURRENT_TIMESTAMP,\n",
        "                updated_at TIMESTAMP DEFAULT CURRENT_TIMESTAMP\n",
        "            );\n",
        "            \"\"\",\n",
        "            \"\"\"\n",
        "            CREATE TABLE IF NOT EXISTS Campaigns (\n",
        "                id SERIAL PRIMARY KEY,\n",
        "                name VARCHAR(50),\n",
        "                user_id INT REFERENCES Users(id),\n",
        "                created_at TIMESTAMP DEFAULT CURRENT_TIMESTAMP,\n",
        "                updated_at TIMESTAMP DEFAULT CURRENT_TIMESTAMP\n",
        "            );\n",
        "            \"\"\",\n",
        "            \"\"\"\n",
        "            CREATE TABLE IF NOT EXISTS Emails (\n",
        "                id SERIAL PRIMARY KEY,\n",
        "                subject VARCHAR(50),\n",
        "                body TEXT,\n",
        "                campaign_id INT REFERENCES Campaigns(id),\n",
        "                created_at TIMESTAMP DEFAULT CURRENT_TIMESTAMP,\n",
        "                updated_at TIMESTAMP DEFAULT CURRENT_TIMESTAMP\n",
        "            );\n",
        "            \"\"\",\n",
        "            \"\"\"\n",
        "            CREATE TABLE IF NOT EXISTS Contacts (\n",
        "                id SERIAL PRIMARY KEY,\n",
        "                email VARCHAR(50),\n",
        "                first_name VARCHAR(50),\n",
        "                last_name VARCHAR(50),\n",
        "                phone_number VARCHAR(50),\n",
        "                user_id INT REFERENCES Users(id),\n",
        "                created_at TIMESTAMP DEFAULT CURRENT_TIMESTAMP,\n",
        "                updated_at TIMESTAMP DEFAULT CURRENT_TIMESTAMP\n",
        "            );\n",
        "            \"\"\",\n",
        "            \"\"\"\n",
        "            CREATE TABLE IF NOT EXISTS Campaigns_Contacts (\n",
        "                campaign_id INT REFERENCES Campaigns(id),\n",
        "                contact_id INT REFERENCES Contacts(id),\n",
        "                PRIMARY KEY (campaign_id, contact_id)\n",
        "            );\n",
        "            \"\"\"\n",
        "        ]\n",
        "\n",
        "        # Exécution des requêtes pour créer les tables\n",
        "        for query in queries:\n",
        "            cur.execute(query)\n",
        "\n",
        "        # Fermeture de la communication avec la base de données\n",
        "        cur.close()\n",
        "\n",
        "        # Commit des changements\n",
        "        conn.commit()\n",
        "\n",
        "    except Exception as e:\n",
        "        print(f\"Une erreur est survenue : {e}\")\n",
        "\n",
        "    finally:\n",
        "        if conn:\n",
        "            # Fermeture de la connexion\n",
        "            conn.close()\n",
        "\n",
        "if __name__ == '__main__':\n",
        "    create_tables()\n"
      ],
      "metadata": {
        "id": "MyvocyTz6fa1"
      },
      "execution_count": 7,
      "outputs": []
    },
    {
      "cell_type": "markdown",
      "source": [
        "# Code pour voir quels tables nous avons dans la DB"
      ],
      "metadata": {
        "id": "fHcKENP9G7Cl"
      }
    },
    {
      "cell_type": "code",
      "source": [
        "import psycopg2\n",
        "\n",
        "def list_tables():\n",
        "\n",
        "    # Paramètres de connexion\n",
        "    params = {\n",
        "        'host': 'lm1672121-001.eu.clouddb.ovh.net',\n",
        "        'port': 35602,  # Remplacez par le bon port si nécessaire\n",
        "        'user': 'admin',\n",
        "        'password': 'Hermell15C',\n",
        "        'dbname': 'Hermel'\n",
        "    }\n",
        "\n",
        "    # Initialisation de la variable de connexion\n",
        "    conn = None\n",
        "\n",
        "    try:\n",
        "        # Connexion à la base de données PostgreSQL\n",
        "        conn = psycopg2.connect(**params)\n",
        "\n",
        "        # Création d'un nouvel objet cursor\n",
        "        cur = conn.cursor()\n",
        "\n",
        "        # Exécution de la requête SQL pour lister toutes les tables\n",
        "        cur.execute(\"\"\"\n",
        "            SELECT table_name\n",
        "            FROM information_schema.tables\n",
        "            WHERE table_schema = 'public'\n",
        "        \"\"\")\n",
        "\n",
        "        # Récupération des résultats\n",
        "        tables = cur.fetchall()\n",
        "\n",
        "        # Affichage des tables\n",
        "        for table in tables:\n",
        "            print(\"Table:\", table[0])\n",
        "\n",
        "        # Fermeture de la communication avec la base de données\n",
        "        cur.close()\n",
        "\n",
        "    except Exception as e:\n",
        "        print(f\"Une erreur est survenue : {e}\")\n",
        "\n",
        "    finally:\n",
        "        if conn:\n",
        "            # Fermeture de la connexion\n",
        "            conn.close()\n",
        "\n",
        "if __name__ == '__main__':\n",
        "    list_tables()\n"
      ],
      "metadata": {
        "colab": {
          "base_uri": "https://localhost:8080/"
        },
        "id": "nIWmfyfXEaqP",
        "outputId": "00c35804-2176-4f3d-f6d4-5e1f0d99de95"
      },
      "execution_count": 8,
      "outputs": [
        {
          "output_type": "stream",
          "name": "stdout",
          "text": [
            "Table: users\n",
            "Table: campaigns\n",
            "Table: emails\n",
            "Table: contacts\n",
            "Table: campaigns_contacts\n"
          ]
        }
      ]
    },
    {
      "cell_type": "markdown",
      "source": [
        "# CODE POUR IMPORTER DE LA DATA VIA SQL/.csv"
      ],
      "metadata": {
        "id": "huSaYoc3Gz0E"
      }
    },
    {
      "cell_type": "code",
      "source": [
        "import pandas as pd\n",
        "import psycopg2\n",
        "from sqlalchemy import create_engine\n",
        "\n",
        "# Paramètres de connexion à la base de données\n",
        "params = {\n",
        "    'host': 'lm1672121-001.eu.clouddb.ovh.net',\n",
        "    'port': 35602,  # Remplacez par le bon port si nécessaire\n",
        "    'user': 'admin',\n",
        "    'password': 'Hermell15C',\n",
        "    'dbname': 'Hermel'\n",
        "}\n",
        "\n",
        "# Création d'une connexion SQLAlchemy\n",
        "engine = create_engine(f\"postgresql+psycopg2://{params['user']}:{params['password']}@{params['host']}:{params['port']}/{params['dbname']}\")\n",
        "\n",
        "# Lecture des fichiers CSV avec pandas\n",
        "df_users = pd.read_csv('users.csv')\n",
        "df_campaigns = pd.read_csv('campaigns.csv')\n",
        "df_emails = pd.read_csv('emails.csv')\n",
        "df_contacts = pd.read_csv('contacts.csv')\n",
        "df_campaigns_contacts = pd.read_csv('campaigns_contacts.csv')\n",
        "\n",
        "# Importation des données dans PostgreSQL\n",
        "df_users.to_sql('users', engine, if_exists='append', index=False)\n",
        "df_campaigns.to_sql('campaigns', engine, if_exists='append', index=False)\n",
        "df_emails.to_sql('emails', engine, if_exists='append', index=False)\n",
        "df_contacts.to_sql('contacts', engine, if_exists='append', index=False)\n",
        "df_campaigns_contacts.to_sql('campaigns_contacts', engine, if_exists='append', index=False)\n"
      ],
      "metadata": {
        "colab": {
          "base_uri": "https://localhost:8080/"
        },
        "id": "XmnUiZFTEy6J",
        "outputId": "3c669ea7-1afb-4b76-81c0-23b98a441c43"
      },
      "execution_count": 13,
      "outputs": [
        {
          "output_type": "execute_result",
          "data": {
            "text/plain": [
              "5"
            ]
          },
          "metadata": {},
          "execution_count": 13
        }
      ]
    }
  ]
}