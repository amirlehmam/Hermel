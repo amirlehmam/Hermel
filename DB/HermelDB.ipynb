{
  "cells": [
    {
      "cell_type": "code",
      "execution_count": 3,
      "metadata": {},
      "outputs": [
        {
          "ename": "SyntaxError",
          "evalue": "invalid syntax (4151505570.py, line 2)",
          "output_type": "error",
          "traceback": [
            "\u001b[1;36m  Cell \u001b[1;32mIn[3], line 2\u001b[1;36m\u001b[0m\n\u001b[1;33m    django-admin startproject Hermel\u001b[0m\n\u001b[1;37m                 ^\u001b[0m\n\u001b[1;31mSyntaxError\u001b[0m\u001b[1;31m:\u001b[0m invalid syntax\n"
          ]
        }
      ],
      "source": [
        "# Créer un nouveau projet\n",
        "django-admin startproject Hermel\n",
        "\n",
        "# Naviguer dans le répertoire du projet\n",
        "cd Hermel\n",
        "\n",
        "# Créer une nouvelle application\n",
        "python manage.py startapp cold_emailing\n"
      ]
    },
    {
      "cell_type": "code",
      "execution_count": 1,
      "metadata": {
        "id": "KqP6nlxBEhIs"
      },
      "outputs": [
        {
          "ename": "ModuleNotFoundError",
          "evalue": "No module named 'requests'",
          "output_type": "error",
          "traceback": [
            "\u001b[1;31m---------------------------------------------------------------------------\u001b[0m",
            "\u001b[1;31mModuleNotFoundError\u001b[0m                       Traceback (most recent call last)",
            "\u001b[1;32mc:\\Users\\ASUS\\Desktop\\Hermel\\DB\\HermelDB.ipynb Cell 2\u001b[0m line \u001b[0;36m1\n\u001b[1;32m----> <a href='vscode-notebook-cell:/c%3A/Users/ASUS/Desktop/Hermel/DB/HermelDB.ipynb#W1sZmlsZQ%3D%3D?line=0'>1</a>\u001b[0m \u001b[39mimport\u001b[39;00m \u001b[39mrequests\u001b[39;00m\n\u001b[0;32m      <a href='vscode-notebook-cell:/c%3A/Users/ASUS/Desktop/Hermel/DB/HermelDB.ipynb#W1sZmlsZQ%3D%3D?line=1'>2</a>\u001b[0m \u001b[39mimport\u001b[39;00m \u001b[39mtime\u001b[39;00m\n\u001b[0;32m      <a href='vscode-notebook-cell:/c%3A/Users/ASUS/Desktop/Hermel/DB/HermelDB.ipynb#W1sZmlsZQ%3D%3D?line=3'>4</a>\u001b[0m \u001b[39mdef\u001b[39;00m \u001b[39mget_public_ip\u001b[39m():\n",
            "\u001b[1;31mModuleNotFoundError\u001b[0m: No module named 'requests'"
          ]
        }
      ],
      "source": [
        "import requests\n",
        "import time\n",
        "\n",
        "def get_public_ip():\n",
        "    response = requests.get('https://api.ipify.org').text\n",
        "    return response\n",
        "\n",
        "interval = 5  # Interval in seconds\n",
        "while True:\n",
        "    public_ip = get_public_ip()\n",
        "    print(f'Public IPv4: {public_ip}')\n",
        "    time.sleep(interval)"
      ]
    },
    {
      "cell_type": "markdown",
      "metadata": {
        "id": "RiNF3-BfG-hq"
      },
      "source": [
        "# Code pour créer nos 5 tables"
      ]
    },
    {
      "cell_type": "code",
      "execution_count": 7,
      "metadata": {
        "id": "MyvocyTz6fa1"
      },
      "outputs": [],
      "source": [
        "import psycopg2\n",
        "\n",
        "def create_tables():\n",
        "\n",
        "    # Initialisation de la variable de connexion\n",
        "    conn = None\n",
        "\n",
        "    # Paramètres de connexion\n",
        "    params = {\n",
        "        'host': 'lm1672121-001.eu.clouddb.ovh.net',\n",
        "        'port': 35602,\n",
        "        'user': 'admin',\n",
        "        'password': 'Hermell15C',\n",
        "        'dbname': 'Hermel'\n",
        "    }\n",
        "\n",
        "    try:\n",
        "        # Connexion à la base de données PostgreSQL\n",
        "        conn = psycopg2.connect(**params)\n",
        "\n",
        "        # Création d'un nouvel objet cursor\n",
        "        cur = conn.cursor()\n",
        "\n",
        "        # Requêtes SQL pour créer les tables\n",
        "        queries = [\n",
        "            \"\"\"\n",
        "            CREATE TABLE IF NOT EXISTS Users (\n",
        "                id SERIAL PRIMARY KEY,\n",
        "                username VARCHAR(50) UNIQUE,\n",
        "                email VARCHAR(50) UNIQUE,\n",
        "                password_hash VARCHAR(50),\n",
        "                created_at TIMESTAMP DEFAULT CURRENT_TIMESTAMP,\n",
        "                updated_at TIMESTAMP DEFAULT CURRENT_TIMESTAMP\n",
        "            );\n",
        "            \"\"\",\n",
        "            \"\"\"\n",
        "            CREATE TABLE IF NOT EXISTS Campaigns (\n",
        "                id SERIAL PRIMARY KEY,\n",
        "                name VARCHAR(50),\n",
        "                user_id INT REFERENCES Users(id),\n",
        "                created_at TIMESTAMP DEFAULT CURRENT_TIMESTAMP,\n",
        "                updated_at TIMESTAMP DEFAULT CURRENT_TIMESTAMP\n",
        "            );\n",
        "            \"\"\",\n",
        "            \"\"\"\n",
        "            CREATE TABLE IF NOT EXISTS Emails (\n",
        "                id SERIAL PRIMARY KEY,\n",
        "                subject VARCHAR(50),\n",
        "                body TEXT,\n",
        "                campaign_id INT REFERENCES Campaigns(id),\n",
        "                created_at TIMESTAMP DEFAULT CURRENT_TIMESTAMP,\n",
        "                updated_at TIMESTAMP DEFAULT CURRENT_TIMESTAMP\n",
        "            );\n",
        "            \"\"\",\n",
        "            \"\"\"\n",
        "            CREATE TABLE IF NOT EXISTS Contacts (\n",
        "                id SERIAL PRIMARY KEY,\n",
        "                email VARCHAR(50),\n",
        "                first_name VARCHAR(50),\n",
        "                last_name VARCHAR(50),\n",
        "                phone_number VARCHAR(50),\n",
        "                user_id INT REFERENCES Users(id),\n",
        "                created_at TIMESTAMP DEFAULT CURRENT_TIMESTAMP,\n",
        "                updated_at TIMESTAMP DEFAULT CURRENT_TIMESTAMP\n",
        "            );\n",
        "            \"\"\",\n",
        "            \"\"\"\n",
        "            CREATE TABLE IF NOT EXISTS Campaigns_Contacts (\n",
        "                campaign_id INT REFERENCES Campaigns(id),\n",
        "                contact_id INT REFERENCES Contacts(id),\n",
        "                PRIMARY KEY (campaign_id, contact_id)\n",
        "            );\n",
        "            \"\"\"\n",
        "        ]\n",
        "\n",
        "        # Exécution des requêtes pour créer les tables\n",
        "        for query in queries:\n",
        "            cur.execute(query)\n",
        "\n",
        "        # Fermeture de la communication avec la base de données\n",
        "        cur.close()\n",
        "\n",
        "        # Commit des changements\n",
        "        conn.commit()\n",
        "\n",
        "    except Exception as e:\n",
        "        print(f\"Une erreur est survenue : {e}\")\n",
        "\n",
        "    finally:\n",
        "        if conn:\n",
        "            # Fermeture de la connexion\n",
        "            conn.close()\n",
        "\n",
        "if __name__ == '__main__':\n",
        "    create_tables()\n"
      ]
    },
    {
      "cell_type": "markdown",
      "metadata": {
        "id": "fHcKENP9G7Cl"
      },
      "source": [
        "# Code pour voir quels tables nous avons dans la DB"
      ]
    },
    {
      "cell_type": "code",
      "execution_count": 8,
      "metadata": {
        "colab": {
          "base_uri": "https://localhost:8080/"
        },
        "id": "nIWmfyfXEaqP",
        "outputId": "00c35804-2176-4f3d-f6d4-5e1f0d99de95"
      },
      "outputs": [
        {
          "name": "stdout",
          "output_type": "stream",
          "text": [
            "Table: users\n",
            "Table: campaigns\n",
            "Table: emails\n",
            "Table: contacts\n",
            "Table: campaigns_contacts\n"
          ]
        }
      ],
      "source": [
        "import psycopg2\n",
        "\n",
        "def list_tables():\n",
        "\n",
        "    # Paramètres de connexion\n",
        "    params = {\n",
        "        'host': 'lm1672121-001.eu.clouddb.ovh.net',\n",
        "        'port': 35602,  # Remplacez par le bon port si nécessaire\n",
        "        'user': 'admin',\n",
        "        'password': 'Hermell15C',\n",
        "        'dbname': 'Hermel'\n",
        "    }\n",
        "\n",
        "    # Initialisation de la variable de connexion\n",
        "    conn = None\n",
        "\n",
        "    try:\n",
        "        # Connexion à la base de données PostgreSQL\n",
        "        conn = psycopg2.connect(**params)\n",
        "\n",
        "        # Création d'un nouvel objet cursor\n",
        "        cur = conn.cursor()\n",
        "\n",
        "        # Exécution de la requête SQL pour lister toutes les tables\n",
        "        cur.execute(\"\"\"\n",
        "            SELECT table_name\n",
        "            FROM information_schema.tables\n",
        "            WHERE table_schema = 'public'\n",
        "        \"\"\")\n",
        "\n",
        "        # Récupération des résultats\n",
        "        tables = cur.fetchall()\n",
        "\n",
        "        # Affichage des tables\n",
        "        for table in tables:\n",
        "            print(\"Table:\", table[0])\n",
        "\n",
        "        # Fermeture de la communication avec la base de données\n",
        "        cur.close()\n",
        "\n",
        "    except Exception as e:\n",
        "        print(f\"Une erreur est survenue : {e}\")\n",
        "\n",
        "    finally:\n",
        "        if conn:\n",
        "            # Fermeture de la connexion\n",
        "            conn.close()\n",
        "\n",
        "if __name__ == '__main__':\n",
        "    list_tables()\n"
      ]
    },
    {
      "cell_type": "markdown",
      "metadata": {
        "id": "huSaYoc3Gz0E"
      },
      "source": [
        "# CODE POUR IMPORTER DE LA DATA VIA SQL/.csv"
      ]
    },
    {
      "cell_type": "code",
      "execution_count": 13,
      "metadata": {
        "colab": {
          "base_uri": "https://localhost:8080/"
        },
        "id": "XmnUiZFTEy6J",
        "outputId": "3c669ea7-1afb-4b76-81c0-23b98a441c43"
      },
      "outputs": [
        {
          "data": {
            "text/plain": [
              "5"
            ]
          },
          "execution_count": 13,
          "metadata": {},
          "output_type": "execute_result"
        }
      ],
      "source": [
        "import pandas as pd\n",
        "import psycopg2\n",
        "from sqlalchemy import create_engine\n",
        "\n",
        "# Paramètres de connexion à la base de données\n",
        "params = {\n",
        "    'host': 'lm1672121-001.eu.clouddb.ovh.net',\n",
        "    'port': 35602,  # Remplacez par le bon port si nécessaire\n",
        "    'user': 'admin',\n",
        "    'password': 'Hermell15C',\n",
        "    'dbname': 'Hermel'\n",
        "}\n",
        "\n",
        "# Création d'une connexion SQLAlchemy\n",
        "engine = create_engine(f\"postgresql+psycopg2://{params['user']}:{params['password']}@{params['host']}:{params['port']}/{params['dbname']}\")\n",
        "\n",
        "# Lecture des fichiers CSV avec pandas\n",
        "df_users = pd.read_csv('users.csv')\n",
        "df_campaigns = pd.read_csv('campaigns.csv')\n",
        "df_emails = pd.read_csv('emails.csv')\n",
        "df_contacts = pd.read_csv('contacts.csv')\n",
        "df_campaigns_contacts = pd.read_csv('campaigns_contacts.csv')\n",
        "\n",
        "# Importation des données dans PostgreSQL\n",
        "df_users.to_sql('users', engine, if_exists='append', index=False)\n",
        "df_campaigns.to_sql('campaigns', engine, if_exists='append', index=False)\n",
        "df_emails.to_sql('emails', engine, if_exists='append', index=False)\n",
        "df_contacts.to_sql('contacts', engine, if_exists='append', index=False)\n",
        "df_campaigns_contacts.to_sql('campaigns_contacts', engine, if_exists='append', index=False)\n"
      ]
    }
  ],
  "metadata": {
    "colab": {
      "provenance": []
    },
    "kernelspec": {
      "display_name": "Python 3",
      "name": "python3"
    },
    "language_info": {
      "codemirror_mode": {
        "name": "ipython",
        "version": 3
      },
      "file_extension": ".py",
      "mimetype": "text/x-python",
      "name": "python",
      "nbconvert_exporter": "python",
      "pygments_lexer": "ipython3",
      "version": "3.8.2"
    }
  },
  "nbformat": 4,
  "nbformat_minor": 0
}
